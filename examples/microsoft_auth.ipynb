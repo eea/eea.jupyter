{
 "cells": [
  {
   "cell_type": "code",
   "execution_count": 1,
   "id": "4fd7dd5b-0851-4c79-98a4-0d52b4ffb724",
   "metadata": {},
   "outputs": [],
   "source": [
    "import plotly.express as px\n",
    "data_canada = px.data.gapminder().query(\"country == 'Canada'\")\n",
    "fig = px.bar(data_canada, x='year', y='pop')"
   ]
  },
  {
   "cell_type": "code",
   "execution_count": null,
   "id": "c6cafbec-4323-4229-8421-840888f6e2cd",
   "metadata": {},
   "outputs": [],
   "source": [
    "!pip install eea.jupyter"
   ]
  },
  {
   "cell_type": "code",
   "execution_count": 2,
   "id": "57cc947c-bfea-4d45-837a-718db9d590ad",
   "metadata": {},
   "outputs": [],
   "source": [
    "from eea.jupyter import upload_plotly"
   ]
  },
  {
   "cell_type": "code",
   "execution_count": null,
   "id": "149d74b2-66c8-471d-9232-4eb2b35c2e29",
   "metadata": {},
   "outputs": [],
   "source": [
    "url = \"https://www.eea.europa.eu/en/sandbox/miu-test/chart-1\" # we don't need to define the api_url as it will be constructed from the url\n",
    "auth_provider = \"microsoft\" # this specifies the authentication provider, default is \"basic\"\n",
    "__ac__key = \"__ac__eea\" # this key will be used as a cookie when uploading/creating the visualization, default is __ac\n",
    "\n",
    "metadata = {\n",
    "    \"topics\": [\"Agriculture and food\"], # the topics of the chart is mandatory to be a list of valid topics\n",
    "    \"temporal_coverage\": [2011, 2020],\n",
    "    \"geo_coverage\": [\"Italy\"], # the geo_coverage is mandatory to be a list of valid countries\n",
    "    \"subjects\": [\"tag 1\"],\n",
    "    \"data_provenance\": [\n",
    "        {\"title\": \"European Environment Agency\", \"organisation\": \"EEA\", \"link\": \"https://eea.europa.eu\"}\n",
    "    ] # the data_provenance is mandatory to be a list of dictionaries with the keys: title, organisation, link\n",
    "}\n",
    "\n",
    "upload_plotly(url=url, fig=fig, auth_provider=auth_provider, __ac__key=__ac__key, **metadata)\n",
    "# After calling this function, we will be prompted to enter the auth_token.\n",
    "# This token can be obtained by signing in to https://www.eea.europa.eu/admin and finding the value of the __ac_eea cookie using a cookie browser extension."
   ]
  }
 ],
 "metadata": {
  "kernelspec": {
   "display_name": "Python 3 (ipykernel)",
   "language": "python",
   "name": "python3"
  },
  "language_info": {
   "codemirror_mode": {
    "name": "ipython",
    "version": 3
   },
   "file_extension": ".py",
   "mimetype": "text/x-python",
   "name": "python",
   "nbconvert_exporter": "python",
   "pygments_lexer": "ipython3",
   "version": "3.12.7"
  }
 },
 "nbformat": 4,
 "nbformat_minor": 5
}
