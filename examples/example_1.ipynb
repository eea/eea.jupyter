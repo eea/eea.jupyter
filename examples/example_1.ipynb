{
 "cells": [
  {
   "cell_type": "code",
   "execution_count": 1,
   "id": "4fd7dd5b-0851-4c79-98a4-0d52b4ffb724",
   "metadata": {},
   "outputs": [],
   "source": [
    "import plotly.express as px\n",
    "data_canada = px.data.gapminder().query(\"country == 'Canada'\")\n",
    "fig = px.bar(data_canada, x='year', y='pop')"
   ]
  },
  {
   "cell_type": "code",
   "execution_count": null,
   "id": "c6cafbec-4323-4229-8421-840888f6e2cd",
   "metadata": {},
   "outputs": [],
   "source": [
    "!pip install eea.jupyter"
   ]
  },
  {
   "cell_type": "code",
   "execution_count": 2,
   "id": "57cc947c-bfea-4d45-837a-718db9d590ad",
   "metadata": {},
   "outputs": [],
   "source": [
    "from eea.jupyter import upload_plotly"
   ]
  },
  {
   "cell_type": "code",
   "execution_count": 3,
   "id": "5dd6444a-5829-43bf-82b6-e0c79aabe992",
   "metadata": {},
   "outputs": [],
   "source": [
    "auth_token = input()"
   ]
  },
  {
   "cell_type": "code",
   "execution_count": null,
   "id": "149d74b2-66c8-471d-9232-4eb2b35c2e29",
   "metadata": {},
   "outputs": [],
   "source": [
    "url = \"https://www.eea.europa.eu/en/sandbox/miu-test/chart-1\"\n",
    "auth_provider = \"microsoft\"\n",
    "__ac__key = \"__ac__eea\"\n",
    "\n",
    "metadata = {\n",
    "    \"topics\": [\"Agriculture and food\"],\n",
    "    \"temporal_coverage\": [2011, 2020],\n",
    "    \"geo_coverage\": [\"Italy\"],\n",
    "    \"subjects\": [\"tag 1\"],\n",
    "    \"data_provenance\": [\n",
    "        {\"title\": \"European Environment Agency\", \"organisation\": \"EEA\", \"link\": \"https://eea.europa.eu\"}\n",
    "    ]\n",
    "}\n",
    "\n",
    "upload_plotly(url=url, fig=fig, auth_provider=auth_provider, __ac__key=__ac__key, auth_token=auth_token, **metadata)"
   ]
  },
  {
   "cell_type": "code",
   "execution_count": 5,
   "id": "91c02c42-6f76-44bd-9e54-c31d7930d427",
   "metadata": {},
   "outputs": [],
   "source": [
    "auth_token = input()"
   ]
  },
  {
   "cell_type": "code",
   "execution_count": null,
   "id": "0dd836a9-1558-4170-8218-ed3d29637ae8",
   "metadata": {},
   "outputs": [],
   "source": [
    "url = \"http://localhost:3000/en/chart-1\"\n",
    "api_url = \"http://localhost:8080/eea/++api++\"\n",
    "\n",
    "metadata = {\n",
    "    \"topics\": [\"Agriculture and food\"],\n",
    "    \"temporal_coverage\": [2011, 2020],\n",
    "    \"geo_coverage\": [\"Italy\"],\n",
    "    \"subjects\": [\"tag 1\"],\n",
    "    \"data_provenance\": [\n",
    "        {\"title\": \"European Environment Agency\", \"organisation\": \"EEA\", \"link\": \"https://eea.europa.eu\"}\n",
    "    ]\n",
    "}\n",
    "\n",
    "upload_plotly(url=url, api_url=api_url, fig=fig, auth_token=auth_token, **metadata)"
   ]
  }
 ],
 "metadata": {
  "kernelspec": {
   "display_name": "Python 3 (ipykernel)",
   "language": "python",
   "name": "python3"
  },
  "language_info": {
   "codemirror_mode": {
    "name": "ipython",
    "version": 3
   },
   "file_extension": ".py",
   "mimetype": "text/x-python",
   "name": "python",
   "nbconvert_exporter": "python",
   "pygments_lexer": "ipython3",
   "version": "3.12.7"
  }
 },
 "nbformat": 4,
 "nbformat_minor": 5
}
