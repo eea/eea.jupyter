{
 "cells": [
  {
   "cell_type": "code",
   "execution_count": 1,
   "id": "4fd7dd5b-0851-4c79-98a4-0d52b4ffb724",
   "metadata": {},
   "outputs": [],
   "source": [
    "import plotly.express as px\n",
    "data_canada = px.data.gapminder().query(\"country == 'Canada'\")\n",
    "fig = px.bar(data_canada, x='year', y='pop')"
   ]
  },
  {
   "cell_type": "code",
   "execution_count": null,
   "id": "c6cafbec-4323-4229-8421-840888f6e2cd",
   "metadata": {},
   "outputs": [],
   "source": [
    "!pip install eea.jupyter"
   ]
  },
  {
   "cell_type": "code",
   "execution_count": 2,
   "id": "57cc947c-bfea-4d45-837a-718db9d590ad",
   "metadata": {},
   "outputs": [],
   "source": [
    "from eea.jupyter import upload_plotly"
   ]
  },
  {
   "cell_type": "code",
   "execution_count": null,
   "id": "3f727657",
   "metadata": {},
   "outputs": [],
   "source": [
    "# auth_token = \"some_valid_jwt_token\" # replace with a valid token, can be used so that you don't have to input the token every time\n",
    "auth_token = input() # will ask you to input the token"
   ]
  },
  {
   "cell_type": "code",
   "execution_count": null,
   "id": "0dd836a9-1558-4170-8218-ed3d29637ae8",
   "metadata": {},
   "outputs": [],
   "source": [
    "url = \"http://localhost:3000/en/chart-1\"\n",
    "api_url = \"http://localhost:8080/eea/++api++\" # we have to define the api url as it cannot be constructed from the url\n",
    "\n",
    "metadata = {\n",
    "    \"topics\": [\"Agriculture and food\"], # the topics of the chart is mandatory to be a list of valid topics\n",
    "    \"temporal_coverage\": [2011, 2020],\n",
    "    \"geo_coverage\": [\"Italy\"], # the geo_coverage is mandatory to be a list of valid countries\n",
    "    \"subjects\": [\"tag 1\"],\n",
    "    \"data_provenance\": [\n",
    "        {\"title\": \"European Environment Agency\", \"organisation\": \"EEA\", \"link\": \"https://eea.europa.eu\"}\n",
    "    ] # the data_provenance is mandatory to be a list of dictionaries with the keys: title, organisation, link\n",
    "}\n",
    "\n",
    "upload_plotly(url=url, api_url=api_url, fig=fig, auth_token=auth_token, **metadata)"
   ]
  }
 ],
 "metadata": {
  "kernelspec": {
   "display_name": "Python 3 (ipykernel)",
   "language": "python",
   "name": "python3"
  },
  "language_info": {
   "codemirror_mode": {
    "name": "ipython",
    "version": 3
   },
   "file_extension": ".py",
   "mimetype": "text/x-python",
   "name": "python",
   "nbconvert_exporter": "python",
   "pygments_lexer": "ipython3",
   "version": "3.12.7"
  }
 },
 "nbformat": 4,
 "nbformat_minor": 5
}
